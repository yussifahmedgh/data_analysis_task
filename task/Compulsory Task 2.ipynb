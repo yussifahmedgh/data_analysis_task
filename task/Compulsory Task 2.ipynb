{
 "cells": [
  {
   "cell_type": "code",
   "execution_count": 53,
   "id": "c763f505",
   "metadata": {},
   "outputs": [],
   "source": [
    "#import Pandas as pd\n",
    "\n",
    "import pandas as pd"
   ]
  },
  {
   "cell_type": "code",
   "execution_count": 4,
   "id": "c429d59d",
   "metadata": {},
   "outputs": [],
   "source": [
    "#read our file using pandas and remove unnecessary whitespaces by cleaning our dataset\n",
    "df = pd.read_csv('balance.txt', delim_whitespace=True)"
   ]
  },
  {
   "cell_type": "code",
   "execution_count": 5,
   "id": "f786f667",
   "metadata": {},
   "outputs": [
    {
     "data": {
      "text/html": [
       "<div>\n",
       "<style scoped>\n",
       "    .dataframe tbody tr th:only-of-type {\n",
       "        vertical-align: middle;\n",
       "    }\n",
       "\n",
       "    .dataframe tbody tr th {\n",
       "        vertical-align: top;\n",
       "    }\n",
       "\n",
       "    .dataframe thead th {\n",
       "        text-align: right;\n",
       "    }\n",
       "</style>\n",
       "<table border=\"1\" class=\"dataframe\">\n",
       "  <thead>\n",
       "    <tr style=\"text-align: right;\">\n",
       "      <th></th>\n",
       "      <th>Balance</th>\n",
       "      <th>Income</th>\n",
       "      <th>Limit</th>\n",
       "      <th>Rating</th>\n",
       "      <th>Cards</th>\n",
       "      <th>Age</th>\n",
       "      <th>Education</th>\n",
       "      <th>Gender</th>\n",
       "      <th>Student</th>\n",
       "      <th>Married</th>\n",
       "      <th>Ethnicity</th>\n",
       "    </tr>\n",
       "  </thead>\n",
       "  <tbody>\n",
       "    <tr>\n",
       "      <th>0</th>\n",
       "      <td>12.240798</td>\n",
       "      <td>14.891</td>\n",
       "      <td>3606</td>\n",
       "      <td>283</td>\n",
       "      <td>2</td>\n",
       "      <td>34</td>\n",
       "      <td>11</td>\n",
       "      <td>Male</td>\n",
       "      <td>No</td>\n",
       "      <td>Yes</td>\n",
       "      <td>Caucasian</td>\n",
       "    </tr>\n",
       "    <tr>\n",
       "      <th>1</th>\n",
       "      <td>23.283334</td>\n",
       "      <td>106.025</td>\n",
       "      <td>6645</td>\n",
       "      <td>483</td>\n",
       "      <td>3</td>\n",
       "      <td>82</td>\n",
       "      <td>15</td>\n",
       "      <td>Female</td>\n",
       "      <td>Yes</td>\n",
       "      <td>Yes</td>\n",
       "      <td>Asian</td>\n",
       "    </tr>\n",
       "    <tr>\n",
       "      <th>2</th>\n",
       "      <td>22.530409</td>\n",
       "      <td>104.593</td>\n",
       "      <td>7075</td>\n",
       "      <td>514</td>\n",
       "      <td>4</td>\n",
       "      <td>71</td>\n",
       "      <td>11</td>\n",
       "      <td>Male</td>\n",
       "      <td>No</td>\n",
       "      <td>No</td>\n",
       "      <td>Asian</td>\n",
       "    </tr>\n",
       "    <tr>\n",
       "      <th>3</th>\n",
       "      <td>27.652811</td>\n",
       "      <td>148.924</td>\n",
       "      <td>9504</td>\n",
       "      <td>681</td>\n",
       "      <td>3</td>\n",
       "      <td>36</td>\n",
       "      <td>11</td>\n",
       "      <td>Female</td>\n",
       "      <td>No</td>\n",
       "      <td>No</td>\n",
       "      <td>Asian</td>\n",
       "    </tr>\n",
       "    <tr>\n",
       "      <th>4</th>\n",
       "      <td>16.893978</td>\n",
       "      <td>55.882</td>\n",
       "      <td>4897</td>\n",
       "      <td>357</td>\n",
       "      <td>2</td>\n",
       "      <td>68</td>\n",
       "      <td>16</td>\n",
       "      <td>Male</td>\n",
       "      <td>No</td>\n",
       "      <td>Yes</td>\n",
       "      <td>Caucasian</td>\n",
       "    </tr>\n",
       "  </tbody>\n",
       "</table>\n",
       "</div>"
      ],
      "text/plain": [
       "     Balance   Income  Limit  Rating  Cards  Age  Education  Gender Student  \\\n",
       "0  12.240798   14.891   3606     283      2   34         11    Male      No   \n",
       "1  23.283334  106.025   6645     483      3   82         15  Female     Yes   \n",
       "2  22.530409  104.593   7075     514      4   71         11    Male      No   \n",
       "3  27.652811  148.924   9504     681      3   36         11  Female      No   \n",
       "4  16.893978   55.882   4897     357      2   68         16    Male      No   \n",
       "\n",
       "  Married  Ethnicity  \n",
       "0     Yes  Caucasian  \n",
       "1     Yes      Asian  \n",
       "2      No      Asian  \n",
       "3      No      Asian  \n",
       "4     Yes  Caucasian  "
      ]
     },
     "execution_count": 5,
     "metadata": {},
     "output_type": "execute_result"
    }
   ],
   "source": [
    "#Get an overview of the first 5 rows and all our columns\n",
    "df.head()"
   ]
  },
  {
   "cell_type": "code",
   "execution_count": 33,
   "id": "f73ca7ca",
   "metadata": {},
   "outputs": [
    {
     "data": {
      "text/plain": [
       "<bound method DataFrame.info of        Balance   Income  Limit  Rating  Cards  Age  Education  Gender Student  \\\n",
       "0    12.240798   14.891   3606     283      2   34         11    Male      No   \n",
       "1    23.283334  106.025   6645     483      3   82         15  Female     Yes   \n",
       "2    22.530409  104.593   7075     514      4   71         11    Male      No   \n",
       "3    27.652811  148.924   9504     681      3   36         11  Female      No   \n",
       "4    16.893978   55.882   4897     357      2   68         16    Male      No   \n",
       "..         ...      ...    ...     ...    ...  ...        ...     ...     ...   \n",
       "395   8.764984   12.096   4100     307      3   32         13    Male      No   \n",
       "396   9.943838   13.364   3838     296      5   65         17    Male      No   \n",
       "397  14.882078   57.872   4171     321      5   67         12  Female      No   \n",
       "398  12.001071   37.728   2525     192      1   44         13    Male      No   \n",
       "399  10.159598   18.701   5524     415      5   64          7  Female      No   \n",
       "\n",
       "    Married         Ethnicity  \n",
       "0       Yes         Caucasian  \n",
       "1       Yes             Asian  \n",
       "2        No             Asian  \n",
       "3        No             Asian  \n",
       "4       Yes         Caucasian  \n",
       "..      ...               ...  \n",
       "395     Yes         Caucasian  \n",
       "396      No  African American  \n",
       "397     Yes         Caucasian  \n",
       "398     Yes         Caucasian  \n",
       "399      No             Asian  \n",
       "\n",
       "[400 rows x 11 columns]>"
      ]
     },
     "execution_count": 33,
     "metadata": {},
     "output_type": "execute_result"
    }
   ],
   "source": [
    "#Get a general information of dataset\n",
    "df.info"
   ]
  },
  {
   "cell_type": "code",
   "execution_count": 57,
   "id": "bbb340b4",
   "metadata": {},
   "outputs": [
    {
     "data": {
      "text/html": [
       "<div>\n",
       "<style scoped>\n",
       "    .dataframe tbody tr th:only-of-type {\n",
       "        vertical-align: middle;\n",
       "    }\n",
       "\n",
       "    .dataframe tbody tr th {\n",
       "        vertical-align: top;\n",
       "    }\n",
       "\n",
       "    .dataframe thead th {\n",
       "        text-align: right;\n",
       "    }\n",
       "</style>\n",
       "<table border=\"1\" class=\"dataframe\">\n",
       "  <thead>\n",
       "    <tr style=\"text-align: right;\">\n",
       "      <th></th>\n",
       "      <th>Balance</th>\n",
       "      <th>Income</th>\n",
       "      <th>Limit</th>\n",
       "      <th>Rating</th>\n",
       "      <th>Cards</th>\n",
       "      <th>Age</th>\n",
       "      <th>Education</th>\n",
       "    </tr>\n",
       "  </thead>\n",
       "  <tbody>\n",
       "    <tr>\n",
       "      <th>count</th>\n",
       "      <td>400.000000</td>\n",
       "      <td>400.000000</td>\n",
       "      <td>400.000000</td>\n",
       "      <td>400.000000</td>\n",
       "      <td>400.000000</td>\n",
       "      <td>400.000000</td>\n",
       "      <td>400.000000</td>\n",
       "    </tr>\n",
       "    <tr>\n",
       "      <th>mean</th>\n",
       "      <td>13.429175</td>\n",
       "      <td>45.218885</td>\n",
       "      <td>4735.600000</td>\n",
       "      <td>354.940000</td>\n",
       "      <td>2.957500</td>\n",
       "      <td>55.667500</td>\n",
       "      <td>13.450000</td>\n",
       "    </tr>\n",
       "    <tr>\n",
       "      <th>std</th>\n",
       "      <td>5.669256</td>\n",
       "      <td>35.244273</td>\n",
       "      <td>2308.198848</td>\n",
       "      <td>154.724143</td>\n",
       "      <td>1.371275</td>\n",
       "      <td>17.249807</td>\n",
       "      <td>3.125207</td>\n",
       "    </tr>\n",
       "    <tr>\n",
       "      <th>min</th>\n",
       "      <td>3.749403</td>\n",
       "      <td>10.354000</td>\n",
       "      <td>855.000000</td>\n",
       "      <td>93.000000</td>\n",
       "      <td>1.000000</td>\n",
       "      <td>23.000000</td>\n",
       "      <td>5.000000</td>\n",
       "    </tr>\n",
       "    <tr>\n",
       "      <th>25%</th>\n",
       "      <td>9.891439</td>\n",
       "      <td>21.007250</td>\n",
       "      <td>3088.000000</td>\n",
       "      <td>247.250000</td>\n",
       "      <td>2.000000</td>\n",
       "      <td>41.750000</td>\n",
       "      <td>11.000000</td>\n",
       "    </tr>\n",
       "    <tr>\n",
       "      <th>50%</th>\n",
       "      <td>11.779615</td>\n",
       "      <td>33.115500</td>\n",
       "      <td>4622.500000</td>\n",
       "      <td>344.000000</td>\n",
       "      <td>3.000000</td>\n",
       "      <td>56.000000</td>\n",
       "      <td>14.000000</td>\n",
       "    </tr>\n",
       "    <tr>\n",
       "      <th>75%</th>\n",
       "      <td>15.236961</td>\n",
       "      <td>57.470750</td>\n",
       "      <td>5872.750000</td>\n",
       "      <td>437.250000</td>\n",
       "      <td>4.000000</td>\n",
       "      <td>70.000000</td>\n",
       "      <td>16.000000</td>\n",
       "    </tr>\n",
       "    <tr>\n",
       "      <th>max</th>\n",
       "      <td>38.785123</td>\n",
       "      <td>186.634000</td>\n",
       "      <td>13913.000000</td>\n",
       "      <td>982.000000</td>\n",
       "      <td>9.000000</td>\n",
       "      <td>98.000000</td>\n",
       "      <td>20.000000</td>\n",
       "    </tr>\n",
       "  </tbody>\n",
       "</table>\n",
       "</div>"
      ],
      "text/plain": [
       "          Balance      Income         Limit      Rating       Cards  \\\n",
       "count  400.000000  400.000000    400.000000  400.000000  400.000000   \n",
       "mean    13.429175   45.218885   4735.600000  354.940000    2.957500   \n",
       "std      5.669256   35.244273   2308.198848  154.724143    1.371275   \n",
       "min      3.749403   10.354000    855.000000   93.000000    1.000000   \n",
       "25%      9.891439   21.007250   3088.000000  247.250000    2.000000   \n",
       "50%     11.779615   33.115500   4622.500000  344.000000    3.000000   \n",
       "75%     15.236961   57.470750   5872.750000  437.250000    4.000000   \n",
       "max     38.785123  186.634000  13913.000000  982.000000    9.000000   \n",
       "\n",
       "              Age   Education  \n",
       "count  400.000000  400.000000  \n",
       "mean    55.667500   13.450000  \n",
       "std     17.249807    3.125207  \n",
       "min     23.000000    5.000000  \n",
       "25%     41.750000   11.000000  \n",
       "50%     56.000000   14.000000  \n",
       "75%     70.000000   16.000000  \n",
       "max     98.000000   20.000000  "
      ]
     },
     "execution_count": 57,
     "metadata": {},
     "output_type": "execute_result"
    }
   ],
   "source": [
    "#Get a general description of our dataset\n",
    "df.describe()"
   ]
  },
  {
   "cell_type": "code",
   "execution_count": 20,
   "id": "5d240495",
   "metadata": {},
   "outputs": [
    {
     "data": {
      "text/plain": [
       "Ethnicity\n",
       "African American    47.682101\n",
       "Asian               44.187833\n",
       "Caucasian           44.521945\n",
       "Name: Income, dtype: float64"
      ]
     },
     "execution_count": 20,
     "metadata": {},
     "output_type": "execute_result"
    }
   ],
   "source": [
    "#Question 1\n",
    "# Compare the average income based on Ethnicity using groupby approach\n",
    "df.groupby('Ethnicity')['Income'].mean()"
   ]
  },
  {
   "cell_type": "code",
   "execution_count": 50,
   "id": "fc46361d",
   "metadata": {},
   "outputs": [
    {
     "name": "stdout",
     "output_type": "stream",
     "text": [
      "average Balance of Married people in our dataset is 13.388473477498913\n",
      "\n",
      "average Balance of Single people in our dataset is 13.493509015134242\n",
      "\n",
      "\n",
      "Therefore, from our evaluation, the average Balance of single people are higher than married people\n"
     ]
    }
   ],
   "source": [
    "#On average, married people and single people, who has a higher Balance\n",
    "\n",
    "married = df[df.Married == \"Yes\"].loc[:,\"Balance\"].mean()\n",
    "not_married = df[df.Married == \"No\"].loc[:,\"Balance\"].mean()\n",
    "\n",
    "#From our evaluation, on average, Single people has higher Balance than married people as shown below\n",
    "print(f\"average Balance of Married people in our dataset is {married}\\n\")\n",
    "print(f\"average Balance of Single people in our dataset is {not_married}\\n\")\n",
    "print(\"\\nTherefore, from our evaluation, the average Balance of single people are higher than married people\")"
   ]
  },
  {
   "cell_type": "code",
   "execution_count": 56,
   "id": "ca919fc0",
   "metadata": {},
   "outputs": [
    {
     "name": "stdout",
     "output_type": "stream",
     "text": [
      "The highest income in our dataset is 186.634\n"
     ]
    }
   ],
   "source": [
    "#The highest income in our dataset\n",
    "print(f\"The highest income in our dataset is {df['Income'].max()}\")\n"
   ]
  },
  {
   "cell_type": "code",
   "execution_count": 55,
   "id": "3f7b5e63",
   "metadata": {},
   "outputs": [
    {
     "name": "stdout",
     "output_type": "stream",
     "text": [
      "The lowest income in our dataset is 10.354\n"
     ]
    }
   ],
   "source": [
    "#The lowest income in our dataset\n",
    "print(f\"The lowest income in our dataset is {df['Income'].min()}\")"
   ]
  },
  {
   "cell_type": "code",
   "execution_count": 63,
   "id": "82342718",
   "metadata": {},
   "outputs": [
    {
     "name": "stdout",
     "output_type": "stream",
     "text": [
      "The number of Cards recorded are 1183\n"
     ]
    }
   ],
   "source": [
    "# Number of Cards recorded\n",
    "print(f\"The number of Cards recorded are {df['Cards'].sum()}\")"
   ]
  },
  {
   "cell_type": "code",
   "execution_count": 66,
   "id": "8e74760a",
   "metadata": {},
   "outputs": [
    {
     "name": "stdout",
     "output_type": "stream",
     "text": [
      "207\n"
     ]
    }
   ],
   "source": [
    "#Number of females in our dataset\n",
    "female_count = df['Gender'].value_counts()['Female']\n",
    "print(female_count)"
   ]
  },
  {
   "cell_type": "code",
   "execution_count": 67,
   "id": "07b50e80",
   "metadata": {},
   "outputs": [
    {
     "name": "stdout",
     "output_type": "stream",
     "text": [
      "193\n"
     ]
    }
   ],
   "source": [
    "#Number of males in our dataset\n",
    "male_count = df['Gender'].value_counts()['Male']\n",
    "print(male_count)"
   ]
  },
  {
   "cell_type": "code",
   "execution_count": 70,
   "id": "56ea86df",
   "metadata": {},
   "outputs": [
    {
     "name": "stdout",
     "output_type": "stream",
     "text": [
      "There are 193 males compared to 207 females)\n"
     ]
    }
   ],
   "source": [
    "#Number of males compared to females \n",
    "print(f\"There are {male_count} males compared to {female_count} females)\")"
   ]
  }
 ],
 "metadata": {
  "kernelspec": {
   "display_name": "Python 3 (ipykernel)",
   "language": "python",
   "name": "python3"
  },
  "language_info": {
   "codemirror_mode": {
    "name": "ipython",
    "version": 3
   },
   "file_extension": ".py",
   "mimetype": "text/x-python",
   "name": "python",
   "nbconvert_exporter": "python",
   "pygments_lexer": "ipython3",
   "version": "3.10.9"
  }
 },
 "nbformat": 4,
 "nbformat_minor": 5
}
